{
 "cells": [
  {
   "cell_type": "code",
   "execution_count": 2,
   "metadata": {},
   "outputs": [
    {
     "name": "stdout",
     "output_type": "stream",
     "text": [
      "WARNING:tensorflow:From c:\\Users\\ahmedkhattab\\AppData\\Local\\Programs\\Python\\Python311\\Lib\\site-packages\\keras\\src\\losses.py:2976: The name tf.losses.sparse_softmax_cross_entropy is deprecated. Please use tf.compat.v1.losses.sparse_softmax_cross_entropy instead.\n",
      "\n"
     ]
    }
   ],
   "source": [
    "import pandas as pd\n",
    "import os\n",
    "import matplotlib.pyplot as plt\n",
    "from nltk.tokenize import word_tokenize\n",
    "from nltk.stem import PorterStemmer, WordNetLemmatizer\n",
    "import re\n",
    "from sklearn.utils import shuffle, resample\n",
    "from sklearn.model_selection import train_test_split\n",
    "from pycaret.classification import ClassificationExperiment\n",
    "from pycaret.classification import *\n",
    "from sklearn.linear_model import RidgeClassifier\n",
    "from sklearn.tree import DecisionTreeClassifier\n",
    "from sklearn.feature_extraction.text import TfidfVectorizer\n",
    "import tensorflow as tf\n",
    "from sklearn.pipeline import Pipeline\n",
    "from sklearn.metrics import accuracy_score, precision_score, recall_score, f1_score"
   ]
  },
  {
   "cell_type": "code",
   "execution_count": 3,
   "metadata": {},
   "outputs": [],
   "source": [
    "#  Read The Dataset And Join It\n",
    "train_data = pd.read_csv(os.path.join('jigsaw-toxic-comment-classification-challenge','train.csv', 'train.csv'))"
   ]
  },
  {
   "cell_type": "code",
   "execution_count": 4,
   "metadata": {},
   "outputs": [
    {
     "data": {
      "text/html": [
       "<div>\n",
       "<style scoped>\n",
       "    .dataframe tbody tr th:only-of-type {\n",
       "        vertical-align: middle;\n",
       "    }\n",
       "\n",
       "    .dataframe tbody tr th {\n",
       "        vertical-align: top;\n",
       "    }\n",
       "\n",
       "    .dataframe thead th {\n",
       "        text-align: right;\n",
       "    }\n",
       "</style>\n",
       "<table border=\"1\" class=\"dataframe\">\n",
       "  <thead>\n",
       "    <tr style=\"text-align: right;\">\n",
       "      <th></th>\n",
       "      <th>id</th>\n",
       "      <th>comment_text</th>\n",
       "      <th>toxic</th>\n",
       "      <th>severe_toxic</th>\n",
       "      <th>obscene</th>\n",
       "      <th>threat</th>\n",
       "      <th>insult</th>\n",
       "      <th>identity_hate</th>\n",
       "    </tr>\n",
       "  </thead>\n",
       "  <tbody>\n",
       "    <tr>\n",
       "      <th>0</th>\n",
       "      <td>0000997932d777bf</td>\n",
       "      <td>Explanation\\nWhy the edits made under my usern...</td>\n",
       "      <td>0</td>\n",
       "      <td>0</td>\n",
       "      <td>0</td>\n",
       "      <td>0</td>\n",
       "      <td>0</td>\n",
       "      <td>0</td>\n",
       "    </tr>\n",
       "    <tr>\n",
       "      <th>1</th>\n",
       "      <td>000103f0d9cfb60f</td>\n",
       "      <td>D'aww! He matches this background colour I'm s...</td>\n",
       "      <td>0</td>\n",
       "      <td>0</td>\n",
       "      <td>0</td>\n",
       "      <td>0</td>\n",
       "      <td>0</td>\n",
       "      <td>0</td>\n",
       "    </tr>\n",
       "    <tr>\n",
       "      <th>2</th>\n",
       "      <td>000113f07ec002fd</td>\n",
       "      <td>Hey man, I'm really not trying to edit war. It...</td>\n",
       "      <td>0</td>\n",
       "      <td>0</td>\n",
       "      <td>0</td>\n",
       "      <td>0</td>\n",
       "      <td>0</td>\n",
       "      <td>0</td>\n",
       "    </tr>\n",
       "  </tbody>\n",
       "</table>\n",
       "</div>"
      ],
      "text/plain": [
       "                 id                                       comment_text  toxic  \\\n",
       "0  0000997932d777bf  Explanation\\nWhy the edits made under my usern...      0   \n",
       "1  000103f0d9cfb60f  D'aww! He matches this background colour I'm s...      0   \n",
       "2  000113f07ec002fd  Hey man, I'm really not trying to edit war. It...      0   \n",
       "\n",
       "   severe_toxic  obscene  threat  insult  identity_hate  \n",
       "0             0        0       0       0              0  \n",
       "1             0        0       0       0              0  \n",
       "2             0        0       0       0              0  "
      ]
     },
     "execution_count": 4,
     "metadata": {},
     "output_type": "execute_result"
    }
   ],
   "source": [
    "train_data.head(3)"
   ]
  },
  {
   "cell_type": "code",
   "execution_count": 5,
   "metadata": {},
   "outputs": [],
   "source": [
    "train_data.drop(columns=['id','severe_toxic','obscene','threat','insult','identity_hate'],inplace=True)"
   ]
  },
  {
   "cell_type": "code",
   "execution_count": 6,
   "metadata": {},
   "outputs": [],
   "source": [
    "train_data = train_data.rename(columns={'comment_text':'text','toxic':'target'})"
   ]
  },
  {
   "cell_type": "code",
   "execution_count": 7,
   "metadata": {},
   "outputs": [
    {
     "data": {
      "text/html": [
       "<div>\n",
       "<style scoped>\n",
       "    .dataframe tbody tr th:only-of-type {\n",
       "        vertical-align: middle;\n",
       "    }\n",
       "\n",
       "    .dataframe tbody tr th {\n",
       "        vertical-align: top;\n",
       "    }\n",
       "\n",
       "    .dataframe thead th {\n",
       "        text-align: right;\n",
       "    }\n",
       "</style>\n",
       "<table border=\"1\" class=\"dataframe\">\n",
       "  <thead>\n",
       "    <tr style=\"text-align: right;\">\n",
       "      <th></th>\n",
       "      <th>text</th>\n",
       "      <th>target</th>\n",
       "    </tr>\n",
       "  </thead>\n",
       "  <tbody>\n",
       "    <tr>\n",
       "      <th>0</th>\n",
       "      <td>Explanation\\nWhy the edits made under my usern...</td>\n",
       "      <td>0</td>\n",
       "    </tr>\n",
       "    <tr>\n",
       "      <th>1</th>\n",
       "      <td>D'aww! He matches this background colour I'm s...</td>\n",
       "      <td>0</td>\n",
       "    </tr>\n",
       "    <tr>\n",
       "      <th>2</th>\n",
       "      <td>Hey man, I'm really not trying to edit war. It...</td>\n",
       "      <td>0</td>\n",
       "    </tr>\n",
       "    <tr>\n",
       "      <th>3</th>\n",
       "      <td>\"\\nMore\\nI can't make any real suggestions on ...</td>\n",
       "      <td>0</td>\n",
       "    </tr>\n",
       "    <tr>\n",
       "      <th>4</th>\n",
       "      <td>You, sir, are my hero. Any chance you remember...</td>\n",
       "      <td>0</td>\n",
       "    </tr>\n",
       "  </tbody>\n",
       "</table>\n",
       "</div>"
      ],
      "text/plain": [
       "                                                text  target\n",
       "0  Explanation\\nWhy the edits made under my usern...       0\n",
       "1  D'aww! He matches this background colour I'm s...       0\n",
       "2  Hey man, I'm really not trying to edit war. It...       0\n",
       "3  \"\\nMore\\nI can't make any real suggestions on ...       0\n",
       "4  You, sir, are my hero. Any chance you remember...       0"
      ]
     },
     "execution_count": 7,
     "metadata": {},
     "output_type": "execute_result"
    }
   ],
   "source": [
    "train_data.head()"
   ]
  },
  {
   "cell_type": "code",
   "execution_count": 8,
   "metadata": {},
   "outputs": [
    {
     "name": "stdout",
     "output_type": "stream",
     "text": [
      "<class 'pandas.core.frame.DataFrame'>\n",
      "RangeIndex: 159571 entries, 0 to 159570\n",
      "Data columns (total 2 columns):\n",
      " #   Column  Non-Null Count   Dtype \n",
      "---  ------  --------------   ----- \n",
      " 0   text    159571 non-null  object\n",
      " 1   target  159571 non-null  int64 \n",
      "dtypes: int64(1), object(1)\n",
      "memory usage: 2.4+ MB\n"
     ]
    }
   ],
   "source": [
    "train_data.info()"
   ]
  },
  {
   "cell_type": "code",
   "execution_count": 9,
   "metadata": {},
   "outputs": [
    {
     "data": {
      "text/html": [
       "<div>\n",
       "<style scoped>\n",
       "    .dataframe tbody tr th:only-of-type {\n",
       "        vertical-align: middle;\n",
       "    }\n",
       "\n",
       "    .dataframe tbody tr th {\n",
       "        vertical-align: top;\n",
       "    }\n",
       "\n",
       "    .dataframe thead th {\n",
       "        text-align: right;\n",
       "    }\n",
       "</style>\n",
       "<table border=\"1\" class=\"dataframe\">\n",
       "  <thead>\n",
       "    <tr style=\"text-align: right;\">\n",
       "      <th></th>\n",
       "      <th>text</th>\n",
       "      <th>target</th>\n",
       "      <th>no_tokens</th>\n",
       "    </tr>\n",
       "  </thead>\n",
       "  <tbody>\n",
       "    <tr>\n",
       "      <th>51081</th>\n",
       "      <td>\"\\n\\n RE: I Think This Should Be Deleted \\nTo ...</td>\n",
       "      <td>0</td>\n",
       "      <td>82</td>\n",
       "    </tr>\n",
       "    <tr>\n",
       "      <th>129437</th>\n",
       "      <td>Emtjets Charter Marketplace offers direct acce...</td>\n",
       "      <td>0</td>\n",
       "      <td>24</td>\n",
       "    </tr>\n",
       "    <tr>\n",
       "      <th>122514</th>\n",
       "      <td>That is irrelevant! You're involved, and as an...</td>\n",
       "      <td>0</td>\n",
       "      <td>52</td>\n",
       "    </tr>\n",
       "    <tr>\n",
       "      <th>151305</th>\n",
       "      <td>\"\\n\\nThere is a great deal of ineteresting dis...</td>\n",
       "      <td>0</td>\n",
       "      <td>37</td>\n",
       "    </tr>\n",
       "    <tr>\n",
       "      <th>71917</th>\n",
       "      <td>First there's the comparative context – the Se...</td>\n",
       "      <td>0</td>\n",
       "      <td>75</td>\n",
       "    </tr>\n",
       "    <tr>\n",
       "      <th>62083</th>\n",
       "      <td>\"\\nSaffron Drake (born 26 August 2001) is a gi...</td>\n",
       "      <td>0</td>\n",
       "      <td>31</td>\n",
       "    </tr>\n",
       "    <tr>\n",
       "      <th>70187</th>\n",
       "      <td>Does anyone know which of these represents the...</td>\n",
       "      <td>0</td>\n",
       "      <td>18</td>\n",
       "    </tr>\n",
       "    <tr>\n",
       "      <th>79524</th>\n",
       "      <td>\"\\n This statement http://en.wikipedia.org/w/i...</td>\n",
       "      <td>0</td>\n",
       "      <td>65</td>\n",
       "    </tr>\n",
       "    <tr>\n",
       "      <th>24812</th>\n",
       "      <td>obviously Russia is the most important partner...</td>\n",
       "      <td>0</td>\n",
       "      <td>124</td>\n",
       "    </tr>\n",
       "    <tr>\n",
       "      <th>121222</th>\n",
       "      <td>Every source I have, including original German...</td>\n",
       "      <td>0</td>\n",
       "      <td>34</td>\n",
       "    </tr>\n",
       "  </tbody>\n",
       "</table>\n",
       "</div>"
      ],
      "text/plain": [
       "                                                     text  target  no_tokens\n",
       "51081   \"\\n\\n RE: I Think This Should Be Deleted \\nTo ...       0         82\n",
       "129437  Emtjets Charter Marketplace offers direct acce...       0         24\n",
       "122514  That is irrelevant! You're involved, and as an...       0         52\n",
       "151305  \"\\n\\nThere is a great deal of ineteresting dis...       0         37\n",
       "71917   First there's the comparative context – the Se...       0         75\n",
       "62083   \"\\nSaffron Drake (born 26 August 2001) is a gi...       0         31\n",
       "70187   Does anyone know which of these represents the...       0         18\n",
       "79524   \"\\n This statement http://en.wikipedia.org/w/i...       0         65\n",
       "24812   obviously Russia is the most important partner...       0        124\n",
       "121222  Every source I have, including original German...       0         34"
      ]
     },
     "execution_count": 9,
     "metadata": {},
     "output_type": "execute_result"
    }
   ],
   "source": [
    "train_data['no_tokens'] = train_data['text'].str.split().map(lambda token: len(token)) \n",
    "train_data.sample(10)"
   ]
  },
  {
   "cell_type": "code",
   "execution_count": 10,
   "metadata": {},
   "outputs": [
    {
     "data": {
      "image/png": "[encoded data removed]",
      "text/plain": [
       "<Figure size 1000x600 with 1 Axes>"
      ]
     },
     "metadata": {},
     "output_type": "display_data"
    }
   ],
   "source": [
    "plt.figure(figsize=(10, 6)) \n",
    "\n",
    "train_data[train_data['target'] == 0]['no_tokens'].plot(kind='hist', \n",
    "                                                color='red', \n",
    "                                                label='Not disaster', \n",
    "                                                alpha=0.6)\n",
    "\n",
    "train_data[train_data['target'] == 1]['no_tokens'].plot(kind='hist', \n",
    "                                                color='green', \n",
    "                                                label='Disaster', \n",
    "                                                alpha=0.6)\n",
    "\n",
    "plt.legend(loc='upper right')\n",
    "plt.xlabel(\"Numbers of tokens\")\n",
    "plt.ylabel(\"Numbers of texts\")\n",
    "plt.show()"
   ]
  },
  {
   "cell_type": "code",
   "execution_count": 11,
   "metadata": {},
   "outputs": [
    {
     "data": {
      "text/plain": [
       "text         0\n",
       "target       0\n",
       "no_tokens    0\n",
       "dtype: int64"
      ]
     },
     "execution_count": 11,
     "metadata": {},
     "output_type": "execute_result"
    }
   ],
   "source": [
    "train_data.isnull().sum()"
   ]
  },
  {
   "cell_type": "code",
   "execution_count": 12,
   "metadata": {},
   "outputs": [],
   "source": [
    "stemmer = PorterStemmer()\n",
    "lemmatizer = WordNetLemmatizer()"
   ]
  },
  {
   "cell_type": "code",
   "execution_count": 13,
   "metadata": {},
   "outputs": [],
   "source": [
    "def preprocessing_data(texts):\n",
    "    cleaned_texts = []\n",
    "\n",
    "    for sent in texts:\n",
    "        filtered_tokens = [\n",
    "            lemmatizer.lemmatize(stemmer.stem(re.sub(r'\\W', '', token)))\n",
    "            for token in word_tokenize(re.sub(r'http[s]?://[^\\s]+', '', sent).lower())\n",
    "            if (not token.isnumeric()) and (len(token) > 2)\n",
    "        ]\n",
    "        text = \" \".join(filtered_tokens)\n",
    "        cleaned_texts.append(text)\n",
    "\n",
    "    return cleaned_texts\n"
   ]
  },
  {
   "cell_type": "code",
   "execution_count": 14,
   "metadata": {},
   "outputs": [],
   "source": [
    "import sys\n",
    "sys.setrecursionlimit(10**6)"
   ]
  },
  {
   "cell_type": "code",
   "execution_count": 15,
   "metadata": {},
   "outputs": [
    {
     "data": {
      "text/html": [
       "<div>\n",
       "<style scoped>\n",
       "    .dataframe tbody tr th:only-of-type {\n",
       "        vertical-align: middle;\n",
       "    }\n",
       "\n",
       "    .dataframe tbody tr th {\n",
       "        vertical-align: top;\n",
       "    }\n",
       "\n",
       "    .dataframe thead th {\n",
       "        text-align: right;\n",
       "    }\n",
       "</style>\n",
       "<table border=\"1\" class=\"dataframe\">\n",
       "  <thead>\n",
       "    <tr style=\"text-align: right;\">\n",
       "      <th></th>\n",
       "      <th>text</th>\n",
       "      <th>target</th>\n",
       "      <th>no_tokens</th>\n",
       "      <th>clean_text</th>\n",
       "    </tr>\n",
       "  </thead>\n",
       "  <tbody>\n",
       "    <tr>\n",
       "      <th>0</th>\n",
       "      <td>Explanation\\nWhy the edits made under my usern...</td>\n",
       "      <td>0</td>\n",
       "      <td>43</td>\n",
       "      <td>explan whi the edit made under usernam hardcor...</td>\n",
       "    </tr>\n",
       "    <tr>\n",
       "      <th>1</th>\n",
       "      <td>D'aww! He matches this background colour I'm s...</td>\n",
       "      <td>0</td>\n",
       "      <td>17</td>\n",
       "      <td>daww match thi background colour seemingli stu...</td>\n",
       "    </tr>\n",
       "    <tr>\n",
       "      <th>2</th>\n",
       "      <td>Hey man, I'm really not trying to edit war. It...</td>\n",
       "      <td>0</td>\n",
       "      <td>42</td>\n",
       "      <td>hey man realli not tri edit war just that thi ...</td>\n",
       "    </tr>\n",
       "    <tr>\n",
       "      <th>3</th>\n",
       "      <td>\"\\nMore\\nI can't make any real suggestions on ...</td>\n",
       "      <td>0</td>\n",
       "      <td>113</td>\n",
       "      <td>more nt make ani real suggest improv wonder th...</td>\n",
       "    </tr>\n",
       "    <tr>\n",
       "      <th>4</th>\n",
       "      <td>You, sir, are my hero. Any chance you remember...</td>\n",
       "      <td>0</td>\n",
       "      <td>13</td>\n",
       "      <td>you sir are hero ani chanc you rememb what pag...</td>\n",
       "    </tr>\n",
       "  </tbody>\n",
       "</table>\n",
       "</div>"
      ],
      "text/plain": [
       "                                                text  target  no_tokens  \\\n",
       "0  Explanation\\nWhy the edits made under my usern...       0         43   \n",
       "1  D'aww! He matches this background colour I'm s...       0         17   \n",
       "2  Hey man, I'm really not trying to edit war. It...       0         42   \n",
       "3  \"\\nMore\\nI can't make any real suggestions on ...       0        113   \n",
       "4  You, sir, are my hero. Any chance you remember...       0         13   \n",
       "\n",
       "                                          clean_text  \n",
       "0  explan whi the edit made under usernam hardcor...  \n",
       "1  daww match thi background colour seemingli stu...  \n",
       "2  hey man realli not tri edit war just that thi ...  \n",
       "3  more nt make ani real suggest improv wonder th...  \n",
       "4  you sir are hero ani chanc you rememb what pag...  "
      ]
     },
     "execution_count": 15,
     "metadata": {},
     "output_type": "execute_result"
    }
   ],
   "source": [
    "train_data['clean_text'] = preprocessing_data(train_data['text'].values)\n",
    "train_data.head() "
   ]
  },
  {
   "cell_type": "code",
   "execution_count": 16,
   "metadata": {},
   "outputs": [
    {
     "data": {
      "text/plain": [
       "'\"\\nEmpowered by amnesty and reward\\nThere is a brand new arbcom opened up against Coffee, a precursor of the \"\"disruption and drama\"\" and \"\"utter contempt\"\" that editors will now have moving forward. Mr. MacDonald cannot have it both ways: he cannot show \"\"utter contempt\"\" for \"\"community consensus\"\", intentionally creating \"\"drama and disruption\"\" then two days later attempt to create \"\"community consensus\"\". \\n\\nAs I wrote in the arbcom:\\n\"\"Arbcom sent a powerful, empowering message to editors like Coffee by giving them amnesty: our community rules don\\'t matter, and administrators will be forgiven and rewarded for blatantly breaking our community rules\"\"\\n\\nAs I learned in the KWW RFA, if editors say a blatant falsehood enough times, it becomes truth. Already people are stating that no rules were broken in the RFC BLP, when no one could argue that rules were broken, and I argue they  were broken with \"\"utter contempt\"\".\\n\\nExcuse me but I have an administrator to desysop. You will be happy to note that my focus on Scott will be minimal in the next few days, as I focus on Coffee\\'s rich edit history.\\n\\nI look forward to your comment supporting Coffee in the arbcom.  Frank Andersson (45 revisions restored):an olympic medallist for f**k\\'s sake \"'"
      ]
     },
     "execution_count": 16,
     "metadata": {},
     "output_type": "execute_result"
    }
   ],
   "source": [
    "train_data['text'].iloc[4187]"
   ]
  },
  {
   "cell_type": "code",
   "execution_count": 17,
   "metadata": {},
   "outputs": [
    {
     "data": {
      "text/plain": [
       "'empow amnesti and reward there brand new arbcom open against coffe precursor the disrupt and drama and utter contempt that editor will now have move forward mr macdonald can not have both way can not show utter contempt for commun consensu intent creat drama and disrupt then two day later attempt creat commun consensu wrote the arbcom arbcom sent power empow messag editor like coffe give them amnesti our commun rule nt matter and administr will forgiven and reward for blatantli break our commun rule learn the kww rfa editor say blatant falsehood enough time becom truth alreadi peopl are state that rule were broken the rfc blp when one could argu that rule were broken and argu they were broken with utter contempt excus but have administr desysop you will happi note that focu scott will minim the next few day focu coffe rich edit histori look forward your comment support coffe the arbcom frank andersson revis restor olymp medallist for sake'"
      ]
     },
     "execution_count": 17,
     "metadata": {},
     "output_type": "execute_result"
    }
   ],
   "source": [
    "train_data['clean_text'].iloc[4187]"
   ]
  },
  {
   "cell_type": "code",
   "execution_count": 18,
   "metadata": {},
   "outputs": [
    {
     "data": {
      "text/plain": [
       "'If you would click on the photo you would know that it was taken January 10th.  There is a strong chance that he was under the influence of marijuana as he seemed kind of out it, which would explain the expression on his face.'"
      ]
     },
     "execution_count": 18,
     "metadata": {},
     "output_type": "execute_result"
    }
   ],
   "source": [
    "train_data['text'].iloc[4975]"
   ]
  },
  {
   "cell_type": "code",
   "execution_count": 19,
   "metadata": {},
   "outputs": [
    {
     "data": {
      "text/plain": [
       "'you would click the photo you would know that wa taken januari 10th there strong chanc that wa under the influenc marijuana seem kind out which would explain the express hi face'"
      ]
     },
     "execution_count": 19,
     "metadata": {},
     "output_type": "execute_result"
    }
   ],
   "source": [
    "train_data['clean_text'].iloc[4975]"
   ]
  },
  {
   "cell_type": "code",
   "execution_count": 20,
   "metadata": {},
   "outputs": [
    {
     "data": {
      "text/plain": [
       "0    144277\n",
       "1     15294\n",
       "Name: target, dtype: int64"
      ]
     },
     "execution_count": 20,
     "metadata": {},
     "output_type": "execute_result"
    }
   ],
   "source": [
    "train_data['target'].value_counts()"
   ]
  },
  {
   "cell_type": "code",
   "execution_count": 21,
   "metadata": {},
   "outputs": [
    {
     "data": {
      "text/plain": [
       "0    0.904156\n",
       "1    0.095844\n",
       "Name: target, dtype: float64"
      ]
     },
     "execution_count": 21,
     "metadata": {},
     "output_type": "execute_result"
    }
   ],
   "source": [
    "train_data['target'].value_counts(normalize=True)"
   ]
  },
  {
   "cell_type": "code",
   "execution_count": 22,
   "metadata": {},
   "outputs": [
    {
     "name": "stdout",
     "output_type": "stream",
     "text": [
      "Number of rows after upsampling: \n",
      "Not Disaster Data: 144277 \n",
      "Disaster Data: 144277\n"
     ]
    }
   ],
   "source": [
    "df2 = train_data\n",
    "\n",
    "not_disaster_data = train_data[train_data['target'] == 0]\n",
    "disaster_data = train_data[train_data['target'] == 1]\n",
    "disaster_data = resample(disaster_data, replace=True, n_samples=len(not_disaster_data))\n",
    "\n",
    "df2 = pd.concat([not_disaster_data, disaster_data], axis=0)\n",
    "\n",
    "balanced_train_data = shuffle(df2)\n",
    "\n",
    "print(\"Number of rows after upsampling: \\nNot Disaster Data:\", len(balanced_train_data[balanced_train_data[\"target\"] == 0]), \n",
    "      \"\\nDisaster Data:\", len(balanced_train_data[balanced_train_data[\"target\"] == 1]))"
   ]
  },
  {
   "cell_type": "code",
   "execution_count": 23,
   "metadata": {},
   "outputs": [
    {
     "data": {
      "text/html": [
       "<div>\n",
       "<style scoped>\n",
       "    .dataframe tbody tr th:only-of-type {\n",
       "        vertical-align: middle;\n",
       "    }\n",
       "\n",
       "    .dataframe tbody tr th {\n",
       "        vertical-align: top;\n",
       "    }\n",
       "\n",
       "    .dataframe thead th {\n",
       "        text-align: right;\n",
       "    }\n",
       "</style>\n",
       "<table border=\"1\" class=\"dataframe\">\n",
       "  <thead>\n",
       "    <tr style=\"text-align: right;\">\n",
       "      <th></th>\n",
       "      <th>text</th>\n",
       "      <th>target</th>\n",
       "      <th>no_tokens</th>\n",
       "      <th>clean_text</th>\n",
       "    </tr>\n",
       "  </thead>\n",
       "  <tbody>\n",
       "    <tr>\n",
       "      <th>112992</th>\n",
       "      <td>Go and fist yourself you arrogant prick</td>\n",
       "      <td>1</td>\n",
       "      <td>7</td>\n",
       "      <td>and fist yourself you arrog prick</td>\n",
       "    </tr>\n",
       "    <tr>\n",
       "      <th>53181</th>\n",
       "      <td>P ==\\n\\n E \\n\\n N \\n\\n I \\n\\n S \\n\\n==</td>\n",
       "      <td>1</td>\n",
       "      <td>7</td>\n",
       "      <td></td>\n",
       "    </tr>\n",
       "    <tr>\n",
       "      <th>22337</th>\n",
       "      <td>Fuck you\\n\\nDon't tell me how to behave. I hav...</td>\n",
       "      <td>1</td>\n",
       "      <td>19</td>\n",
       "      <td>fuck you nt tell how behav have more power her...</td>\n",
       "    </tr>\n",
       "  </tbody>\n",
       "</table>\n",
       "</div>"
      ],
      "text/plain": [
       "                                                     text  target  no_tokens  \\\n",
       "112992            Go and fist yourself you arrogant prick       1          7   \n",
       "53181              P ==\\n\\n E \\n\\n N \\n\\n I \\n\\n S \\n\\n==       1          7   \n",
       "22337   Fuck you\\n\\nDon't tell me how to behave. I hav...       1         19   \n",
       "\n",
       "                                               clean_text  \n",
       "112992                  and fist yourself you arrog prick  \n",
       "53181                                                      \n",
       "22337   fuck you nt tell how behav have more power her...  "
      ]
     },
     "execution_count": 23,
     "metadata": {},
     "output_type": "execute_result"
    }
   ],
   "source": [
    "balanced_train_data.head(3)"
   ]
  },
  {
   "cell_type": "code",
   "execution_count": 54,
   "metadata": {},
   "outputs": [
    {
     "data": {
      "text/plain": [
       "text          0\n",
       "target        0\n",
       "no_tokens     0\n",
       "clean_text    0\n",
       "dtype: int64"
      ]
     },
     "execution_count": 54,
     "metadata": {},
     "output_type": "execute_result"
    }
   ],
   "source": [
    "balanced_train_data.isna().sum()"
   ]
  },
  {
   "cell_type": "code",
   "execution_count": 24,
   "metadata": {},
   "outputs": [],
   "source": [
    "X_train, X_val, y_train, y_val = train_test_split(balanced_train_data['clean_text'], balanced_train_data['target'], test_size=0.2, random_state=7)"
   ]
  },
  {
   "cell_type": "code",
   "execution_count": 25,
   "metadata": {},
   "outputs": [
    {
     "name": "stdout",
     "output_type": "stream",
     "text": [
      "(230843,)\n",
      "(57711,)\n",
      "(230843,)\n",
      "(57711,)\n"
     ]
    }
   ],
   "source": [
    "print(X_train.shape)\n",
    "print(X_val.shape)\n",
    "print(y_train.shape)\n",
    "print(y_val.shape)"
   ]
  },
  {
   "cell_type": "code",
   "execution_count": 26,
   "metadata": {},
   "outputs": [],
   "source": [
    "balanced_train_data.reset_index(drop=True, inplace=True)"
   ]
  },
  {
   "cell_type": "code",
   "execution_count": 27,
   "metadata": {},
   "outputs": [
    {
     "data": {
      "text/html": [
       "<style type=\"text/css\">\n",
       "#T_ac20b_row9_col1 {\n",
       "  background-color: lightgreen;\n",
       "}\n",
       "</style>\n",
       "<table id=\"T_ac20b\">\n",
       "  <thead>\n",
       "    <tr>\n",
       "      <th class=\"blank level0\" >&nbsp;</th>\n",
       "      <th id=\"T_ac20b_level0_col0\" class=\"col_heading level0 col0\" >Description</th>\n",
       "      <th id=\"T_ac20b_level0_col1\" class=\"col_heading level0 col1\" >Value</th>\n",
       "    </tr>\n",
       "  </thead>\n",
       "  <tbody>\n",
       "    <tr>\n",
       "      <th id=\"T_ac20b_level0_row0\" class=\"row_heading level0 row0\" >0</th>\n",
       "      <td id=\"T_ac20b_row0_col0\" class=\"data row0 col0\" >Session id</td>\n",
       "      <td id=\"T_ac20b_row0_col1\" class=\"data row0 col1\" >2585</td>\n",
       "    </tr>\n",
       "    <tr>\n",
       "      <th id=\"T_ac20b_level0_row1\" class=\"row_heading level0 row1\" >1</th>\n",
       "      <td id=\"T_ac20b_row1_col0\" class=\"data row1 col0\" >Target</td>\n",
       "      <td id=\"T_ac20b_row1_col1\" class=\"data row1 col1\" >target</td>\n",
       "    </tr>\n",
       "    <tr>\n",
       "      <th id=\"T_ac20b_level0_row2\" class=\"row_heading level0 row2\" >2</th>\n",
       "      <td id=\"T_ac20b_row2_col0\" class=\"data row2 col0\" >Target type</td>\n",
       "      <td id=\"T_ac20b_row2_col1\" class=\"data row2 col1\" >Binary</td>\n",
       "    </tr>\n",
       "    <tr>\n",
       "      <th id=\"T_ac20b_level0_row3\" class=\"row_heading level0 row3\" >3</th>\n",
       "      <td id=\"T_ac20b_row3_col0\" class=\"data row3 col0\" >Original data shape</td>\n",
       "      <td id=\"T_ac20b_row3_col1\" class=\"data row3 col1\" >(288554, 4)</td>\n",
       "    </tr>\n",
       "    <tr>\n",
       "      <th id=\"T_ac20b_level0_row4\" class=\"row_heading level0 row4\" >4</th>\n",
       "      <td id=\"T_ac20b_row4_col0\" class=\"data row4 col0\" >Transformed data shape</td>\n",
       "      <td id=\"T_ac20b_row4_col1\" class=\"data row4 col1\" >(288554, 4)</td>\n",
       "    </tr>\n",
       "    <tr>\n",
       "      <th id=\"T_ac20b_level0_row5\" class=\"row_heading level0 row5\" >5</th>\n",
       "      <td id=\"T_ac20b_row5_col0\" class=\"data row5 col0\" >Transformed train set shape</td>\n",
       "      <td id=\"T_ac20b_row5_col1\" class=\"data row5 col1\" >(201987, 4)</td>\n",
       "    </tr>\n",
       "    <tr>\n",
       "      <th id=\"T_ac20b_level0_row6\" class=\"row_heading level0 row6\" >6</th>\n",
       "      <td id=\"T_ac20b_row6_col0\" class=\"data row6 col0\" >Transformed test set shape</td>\n",
       "      <td id=\"T_ac20b_row6_col1\" class=\"data row6 col1\" >(86567, 4)</td>\n",
       "    </tr>\n",
       "    <tr>\n",
       "      <th id=\"T_ac20b_level0_row7\" class=\"row_heading level0 row7\" >7</th>\n",
       "      <td id=\"T_ac20b_row7_col0\" class=\"data row7 col0\" >Numeric features</td>\n",
       "      <td id=\"T_ac20b_row7_col1\" class=\"data row7 col1\" >1</td>\n",
       "    </tr>\n",
       "    <tr>\n",
       "      <th id=\"T_ac20b_level0_row8\" class=\"row_heading level0 row8\" >8</th>\n",
       "      <td id=\"T_ac20b_row8_col0\" class=\"data row8 col0\" >Categorical features</td>\n",
       "      <td id=\"T_ac20b_row8_col1\" class=\"data row8 col1\" >2</td>\n",
       "    </tr>\n",
       "    <tr>\n",
       "      <th id=\"T_ac20b_level0_row9\" class=\"row_heading level0 row9\" >9</th>\n",
       "      <td id=\"T_ac20b_row9_col0\" class=\"data row9 col0\" >Preprocess</td>\n",
       "      <td id=\"T_ac20b_row9_col1\" class=\"data row9 col1\" >True</td>\n",
       "    </tr>\n",
       "    <tr>\n",
       "      <th id=\"T_ac20b_level0_row10\" class=\"row_heading level0 row10\" >10</th>\n",
       "      <td id=\"T_ac20b_row10_col0\" class=\"data row10 col0\" >Imputation type</td>\n",
       "      <td id=\"T_ac20b_row10_col1\" class=\"data row10 col1\" >simple</td>\n",
       "    </tr>\n",
       "    <tr>\n",
       "      <th id=\"T_ac20b_level0_row11\" class=\"row_heading level0 row11\" >11</th>\n",
       "      <td id=\"T_ac20b_row11_col0\" class=\"data row11 col0\" >Numeric imputation</td>\n",
       "      <td id=\"T_ac20b_row11_col1\" class=\"data row11 col1\" >mean</td>\n",
       "    </tr>\n",
       "    <tr>\n",
       "      <th id=\"T_ac20b_level0_row12\" class=\"row_heading level0 row12\" >12</th>\n",
       "      <td id=\"T_ac20b_row12_col0\" class=\"data row12 col0\" >Categorical imputation</td>\n",
       "      <td id=\"T_ac20b_row12_col1\" class=\"data row12 col1\" >mode</td>\n",
       "    </tr>\n",
       "    <tr>\n",
       "      <th id=\"T_ac20b_level0_row13\" class=\"row_heading level0 row13\" >13</th>\n",
       "      <td id=\"T_ac20b_row13_col0\" class=\"data row13 col0\" >Maximum one-hot encoding</td>\n",
       "      <td id=\"T_ac20b_row13_col1\" class=\"data row13 col1\" >25</td>\n",
       "    </tr>\n",
       "    <tr>\n",
       "      <th id=\"T_ac20b_level0_row14\" class=\"row_heading level0 row14\" >14</th>\n",
       "      <td id=\"T_ac20b_row14_col0\" class=\"data row14 col0\" >Encoding method</td>\n",
       "      <td id=\"T_ac20b_row14_col1\" class=\"data row14 col1\" >None</td>\n",
       "    </tr>\n",
       "    <tr>\n",
       "      <th id=\"T_ac20b_level0_row15\" class=\"row_heading level0 row15\" >15</th>\n",
       "      <td id=\"T_ac20b_row15_col0\" class=\"data row15 col0\" >Fold Generator</td>\n",
       "      <td id=\"T_ac20b_row15_col1\" class=\"data row15 col1\" >StratifiedKFold</td>\n",
       "    </tr>\n",
       "    <tr>\n",
       "      <th id=\"T_ac20b_level0_row16\" class=\"row_heading level0 row16\" >16</th>\n",
       "      <td id=\"T_ac20b_row16_col0\" class=\"data row16 col0\" >Fold Number</td>\n",
       "      <td id=\"T_ac20b_row16_col1\" class=\"data row16 col1\" >10</td>\n",
       "    </tr>\n",
       "    <tr>\n",
       "      <th id=\"T_ac20b_level0_row17\" class=\"row_heading level0 row17\" >17</th>\n",
       "      <td id=\"T_ac20b_row17_col0\" class=\"data row17 col0\" >CPU Jobs</td>\n",
       "      <td id=\"T_ac20b_row17_col1\" class=\"data row17 col1\" >-1</td>\n",
       "    </tr>\n",
       "    <tr>\n",
       "      <th id=\"T_ac20b_level0_row18\" class=\"row_heading level0 row18\" >18</th>\n",
       "      <td id=\"T_ac20b_row18_col0\" class=\"data row18 col0\" >Use GPU</td>\n",
       "      <td id=\"T_ac20b_row18_col1\" class=\"data row18 col1\" >False</td>\n",
       "    </tr>\n",
       "    <tr>\n",
       "      <th id=\"T_ac20b_level0_row19\" class=\"row_heading level0 row19\" >19</th>\n",
       "      <td id=\"T_ac20b_row19_col0\" class=\"data row19 col0\" >Log Experiment</td>\n",
       "      <td id=\"T_ac20b_row19_col1\" class=\"data row19 col1\" >False</td>\n",
       "    </tr>\n",
       "    <tr>\n",
       "      <th id=\"T_ac20b_level0_row20\" class=\"row_heading level0 row20\" >20</th>\n",
       "      <td id=\"T_ac20b_row20_col0\" class=\"data row20 col0\" >Experiment Name</td>\n",
       "      <td id=\"T_ac20b_row20_col1\" class=\"data row20 col1\" >clf-default-name</td>\n",
       "    </tr>\n",
       "    <tr>\n",
       "      <th id=\"T_ac20b_level0_row21\" class=\"row_heading level0 row21\" >21</th>\n",
       "      <td id=\"T_ac20b_row21_col0\" class=\"data row21 col0\" >USI</td>\n",
       "      <td id=\"T_ac20b_row21_col1\" class=\"data row21 col1\" >4afa</td>\n",
       "    </tr>\n",
       "  </tbody>\n",
       "</table>\n"
      ],
      "text/plain": [
       "<pandas.io.formats.style.Styler at 0x26b2876d250>"
      ]
     },
     "metadata": {},
     "output_type": "display_data"
    },
    {
     "data": {
      "text/plain": [
       "<pycaret.classification.oop.ClassificationExperiment at 0x26b1be81b50>"
      ]
     },
     "execution_count": 27,
     "metadata": {},
     "output_type": "execute_result"
    }
   ],
   "source": [
    "exp = ClassificationExperiment()\n",
    "exp.setup(data=balanced_train_data, target='target')\n"
   ]
  },
  {
   "cell_type": "code",
   "execution_count": 55,
   "metadata": {},
   "outputs": [
    {
     "data": {
      "text/html": [],
      "text/plain": [
       "<IPython.core.display.HTML object>"
      ]
     },
     "metadata": {},
     "output_type": "display_data"
    },
    {
     "data": {
      "text/html": [
       "<style type=\"text/css\">\n",
       "#T_be534 th {\n",
       "  text-align: left;\n",
       "}\n",
       "#T_be534_row0_col0, #T_be534_row0_col2, #T_be534_row0_col3, #T_be534_row1_col0, #T_be534_row1_col2, #T_be534_row1_col3, #T_be534_row2_col0, #T_be534_row2_col2, #T_be534_row2_col3, #T_be534_row3_col0, #T_be534_row3_col2, #T_be534_row3_col3, #T_be534_row4_col0, #T_be534_row4_col2, #T_be534_row4_col3, #T_be534_row5_col0, #T_be534_row5_col3, #T_be534_row6_col0, #T_be534_row6_col2, #T_be534_row6_col3, #T_be534_row7_col0, #T_be534_row7_col2, #T_be534_row7_col3, #T_be534_row8_col0, #T_be534_row8_col1, #T_be534_row8_col2, #T_be534_row8_col3, #T_be534_row8_col4, #T_be534_row8_col5, #T_be534_row8_col6, #T_be534_row8_col7, #T_be534_row9_col0, #T_be534_row9_col1, #T_be534_row9_col2, #T_be534_row9_col3, #T_be534_row9_col4, #T_be534_row9_col5, #T_be534_row9_col6, #T_be534_row9_col7, #T_be534_row10_col0, #T_be534_row10_col1, #T_be534_row10_col2, #T_be534_row10_col3, #T_be534_row10_col4, #T_be534_row10_col5, #T_be534_row10_col6, #T_be534_row10_col7, #T_be534_row11_col0, #T_be534_row11_col1, #T_be534_row11_col2, #T_be534_row11_col4, #T_be534_row11_col5, #T_be534_row11_col6, #T_be534_row11_col7, #T_be534_row12_col0, #T_be534_row12_col1, #T_be534_row12_col2, #T_be534_row12_col4, #T_be534_row12_col5, #T_be534_row12_col6, #T_be534_row12_col7, #T_be534_row13_col0, #T_be534_row13_col1, #T_be534_row13_col2, #T_be534_row13_col3, #T_be534_row13_col4, #T_be534_row13_col5, #T_be534_row13_col6, #T_be534_row13_col7 {\n",
       "  text-align: left;\n",
       "}\n",
       "#T_be534_row0_col1, #T_be534_row0_col4, #T_be534_row0_col5, #T_be534_row0_col6, #T_be534_row0_col7, #T_be534_row1_col1, #T_be534_row1_col4, #T_be534_row1_col5, #T_be534_row1_col6, #T_be534_row1_col7, #T_be534_row2_col1, #T_be534_row2_col4, #T_be534_row2_col5, #T_be534_row2_col6, #T_be534_row2_col7, #T_be534_row3_col1, #T_be534_row3_col4, #T_be534_row3_col5, #T_be534_row3_col6, #T_be534_row3_col7, #T_be534_row4_col1, #T_be534_row4_col4, #T_be534_row4_col5, #T_be534_row4_col6, #T_be534_row4_col7, #T_be534_row5_col1, #T_be534_row5_col2, #T_be534_row5_col4, #T_be534_row5_col5, #T_be534_row5_col6, #T_be534_row5_col7, #T_be534_row6_col1, #T_be534_row6_col4, #T_be534_row6_col5, #T_be534_row6_col6, #T_be534_row6_col7, #T_be534_row7_col1, #T_be534_row7_col4, #T_be534_row7_col5, #T_be534_row7_col6, #T_be534_row7_col7, #T_be534_row11_col3, #T_be534_row12_col3 {\n",
       "  text-align: left;\n",
       "  background-color: yellow;\n",
       "}\n",
       "#T_be534_row0_col8, #T_be534_row1_col8, #T_be534_row2_col8, #T_be534_row3_col8, #T_be534_row4_col8, #T_be534_row5_col8, #T_be534_row6_col8, #T_be534_row7_col8, #T_be534_row8_col8, #T_be534_row9_col8, #T_be534_row10_col8, #T_be534_row12_col8, #T_be534_row13_col8 {\n",
       "  text-align: left;\n",
       "  background-color: lightgrey;\n",
       "}\n",
       "#T_be534_row11_col8 {\n",
       "  text-align: left;\n",
       "  background-color: yellow;\n",
       "  background-color: lightgrey;\n",
       "}\n",
       "</style>\n",
       "<table id=\"T_be534\">\n",
       "  <thead>\n",
       "    <tr>\n",
       "      <th class=\"blank level0\" >&nbsp;</th>\n",
       "      <th id=\"T_be534_level0_col0\" class=\"col_heading level0 col0\" >Model</th>\n",
       "      <th id=\"T_be534_level0_col1\" class=\"col_heading level0 col1\" >Accuracy</th>\n",
       "      <th id=\"T_be534_level0_col2\" class=\"col_heading level0 col2\" >AUC</th>\n",
       "      <th id=\"T_be534_level0_col3\" class=\"col_heading level0 col3\" >Recall</th>\n",
       "      <th id=\"T_be534_level0_col4\" class=\"col_heading level0 col4\" >Prec.</th>\n",
       "      <th id=\"T_be534_level0_col5\" class=\"col_heading level0 col5\" >F1</th>\n",
       "      <th id=\"T_be534_level0_col6\" class=\"col_heading level0 col6\" >Kappa</th>\n",
       "      <th id=\"T_be534_level0_col7\" class=\"col_heading level0 col7\" >MCC</th>\n",
       "      <th id=\"T_be534_level0_col8\" class=\"col_heading level0 col8\" >TT (Sec)</th>\n",
       "    </tr>\n",
       "  </thead>\n",
       "  <tbody>\n",
       "    <tr>\n",
       "      <th id=\"T_be534_level0_row0\" class=\"row_heading level0 row0\" >dt</th>\n",
       "      <td id=\"T_be534_row0_col0\" class=\"data row0 col0\" >Decision Tree Classifier</td>\n",
       "      <td id=\"T_be534_row0_col1\" class=\"data row0 col1\" >0.9987</td>\n",
       "      <td id=\"T_be534_row0_col2\" class=\"data row0 col2\" >0.9987</td>\n",
       "      <td id=\"T_be534_row0_col3\" class=\"data row0 col3\" >0.9974</td>\n",
       "      <td id=\"T_be534_row0_col4\" class=\"data row0 col4\" >1.0000</td>\n",
       "      <td id=\"T_be534_row0_col5\" class=\"data row0 col5\" >0.9987</td>\n",
       "      <td id=\"T_be534_row0_col6\" class=\"data row0 col6\" >0.9974</td>\n",
       "      <td id=\"T_be534_row0_col7\" class=\"data row0 col7\" >0.9974</td>\n",
       "      <td id=\"T_be534_row0_col8\" class=\"data row0 col8\" >0.7520</td>\n",
       "    </tr>\n",
       "    <tr>\n",
       "      <th id=\"T_be534_level0_row1\" class=\"row_heading level0 row1\" >ridge</th>\n",
       "      <td id=\"T_be534_row1_col0\" class=\"data row1 col0\" >Ridge Classifier</td>\n",
       "      <td id=\"T_be534_row1_col1\" class=\"data row1 col1\" >0.9987</td>\n",
       "      <td id=\"T_be534_row1_col2\" class=\"data row1 col2\" >0.0000</td>\n",
       "      <td id=\"T_be534_row1_col3\" class=\"data row1 col3\" >0.9974</td>\n",
       "      <td id=\"T_be534_row1_col4\" class=\"data row1 col4\" >1.0000</td>\n",
       "      <td id=\"T_be534_row1_col5\" class=\"data row1 col5\" >0.9987</td>\n",
       "      <td id=\"T_be534_row1_col6\" class=\"data row1 col6\" >0.9974</td>\n",
       "      <td id=\"T_be534_row1_col7\" class=\"data row1 col7\" >0.9974</td>\n",
       "      <td id=\"T_be534_row1_col8\" class=\"data row1 col8\" >0.7600</td>\n",
       "    </tr>\n",
       "    <tr>\n",
       "      <th id=\"T_be534_level0_row2\" class=\"row_heading level0 row2\" >rf</th>\n",
       "      <td id=\"T_be534_row2_col0\" class=\"data row2 col0\" >Random Forest Classifier</td>\n",
       "      <td id=\"T_be534_row2_col1\" class=\"data row2 col1\" >0.9987</td>\n",
       "      <td id=\"T_be534_row2_col2\" class=\"data row2 col2\" >0.9986</td>\n",
       "      <td id=\"T_be534_row2_col3\" class=\"data row2 col3\" >0.9974</td>\n",
       "      <td id=\"T_be534_row2_col4\" class=\"data row2 col4\" >1.0000</td>\n",
       "      <td id=\"T_be534_row2_col5\" class=\"data row2 col5\" >0.9987</td>\n",
       "      <td id=\"T_be534_row2_col6\" class=\"data row2 col6\" >0.9974</td>\n",
       "      <td id=\"T_be534_row2_col7\" class=\"data row2 col7\" >0.9974</td>\n",
       "      <td id=\"T_be534_row2_col8\" class=\"data row2 col8\" >1.8770</td>\n",
       "    </tr>\n",
       "    <tr>\n",
       "      <th id=\"T_be534_level0_row3\" class=\"row_heading level0 row3\" >ada</th>\n",
       "      <td id=\"T_be534_row3_col0\" class=\"data row3 col0\" >Ada Boost Classifier</td>\n",
       "      <td id=\"T_be534_row3_col1\" class=\"data row3 col1\" >0.9987</td>\n",
       "      <td id=\"T_be534_row3_col2\" class=\"data row3 col2\" >0.9987</td>\n",
       "      <td id=\"T_be534_row3_col3\" class=\"data row3 col3\" >0.9974</td>\n",
       "      <td id=\"T_be534_row3_col4\" class=\"data row3 col4\" >1.0000</td>\n",
       "      <td id=\"T_be534_row3_col5\" class=\"data row3 col5\" >0.9987</td>\n",
       "      <td id=\"T_be534_row3_col6\" class=\"data row3 col6\" >0.9974</td>\n",
       "      <td id=\"T_be534_row3_col7\" class=\"data row3 col7\" >0.9974</td>\n",
       "      <td id=\"T_be534_row3_col8\" class=\"data row3 col8\" >0.7540</td>\n",
       "    </tr>\n",
       "    <tr>\n",
       "      <th id=\"T_be534_level0_row4\" class=\"row_heading level0 row4\" >gbc</th>\n",
       "      <td id=\"T_be534_row4_col0\" class=\"data row4 col0\" >Gradient Boosting Classifier</td>\n",
       "      <td id=\"T_be534_row4_col1\" class=\"data row4 col1\" >0.9987</td>\n",
       "      <td id=\"T_be534_row4_col2\" class=\"data row4 col2\" >0.9987</td>\n",
       "      <td id=\"T_be534_row4_col3\" class=\"data row4 col3\" >0.9974</td>\n",
       "      <td id=\"T_be534_row4_col4\" class=\"data row4 col4\" >1.0000</td>\n",
       "      <td id=\"T_be534_row4_col5\" class=\"data row4 col5\" >0.9987</td>\n",
       "      <td id=\"T_be534_row4_col6\" class=\"data row4 col6\" >0.9974</td>\n",
       "      <td id=\"T_be534_row4_col7\" class=\"data row4 col7\" >0.9974</td>\n",
       "      <td id=\"T_be534_row4_col8\" class=\"data row4 col8\" >1.9270</td>\n",
       "    </tr>\n",
       "    <tr>\n",
       "      <th id=\"T_be534_level0_row5\" class=\"row_heading level0 row5\" >lda</th>\n",
       "      <td id=\"T_be534_row5_col0\" class=\"data row5 col0\" >Linear Discriminant Analysis</td>\n",
       "      <td id=\"T_be534_row5_col1\" class=\"data row5 col1\" >0.9987</td>\n",
       "      <td id=\"T_be534_row5_col2\" class=\"data row5 col2\" >0.9990</td>\n",
       "      <td id=\"T_be534_row5_col3\" class=\"data row5 col3\" >0.9974</td>\n",
       "      <td id=\"T_be534_row5_col4\" class=\"data row5 col4\" >1.0000</td>\n",
       "      <td id=\"T_be534_row5_col5\" class=\"data row5 col5\" >0.9987</td>\n",
       "      <td id=\"T_be534_row5_col6\" class=\"data row5 col6\" >0.9974</td>\n",
       "      <td id=\"T_be534_row5_col7\" class=\"data row5 col7\" >0.9974</td>\n",
       "      <td id=\"T_be534_row5_col8\" class=\"data row5 col8\" >0.8450</td>\n",
       "    </tr>\n",
       "    <tr>\n",
       "      <th id=\"T_be534_level0_row6\" class=\"row_heading level0 row6\" >et</th>\n",
       "      <td id=\"T_be534_row6_col0\" class=\"data row6 col0\" >Extra Trees Classifier</td>\n",
       "      <td id=\"T_be534_row6_col1\" class=\"data row6 col1\" >0.9987</td>\n",
       "      <td id=\"T_be534_row6_col2\" class=\"data row6 col2\" >0.9986</td>\n",
       "      <td id=\"T_be534_row6_col3\" class=\"data row6 col3\" >0.9974</td>\n",
       "      <td id=\"T_be534_row6_col4\" class=\"data row6 col4\" >1.0000</td>\n",
       "      <td id=\"T_be534_row6_col5\" class=\"data row6 col5\" >0.9987</td>\n",
       "      <td id=\"T_be534_row6_col6\" class=\"data row6 col6\" >0.9974</td>\n",
       "      <td id=\"T_be534_row6_col7\" class=\"data row6 col7\" >0.9974</td>\n",
       "      <td id=\"T_be534_row6_col8\" class=\"data row6 col8\" >1.0720</td>\n",
       "    </tr>\n",
       "    <tr>\n",
       "      <th id=\"T_be534_level0_row7\" class=\"row_heading level0 row7\" >lightgbm</th>\n",
       "      <td id=\"T_be534_row7_col0\" class=\"data row7 col0\" >Light Gradient Boosting Machine</td>\n",
       "      <td id=\"T_be534_row7_col1\" class=\"data row7 col1\" >0.9987</td>\n",
       "      <td id=\"T_be534_row7_col2\" class=\"data row7 col2\" >0.9987</td>\n",
       "      <td id=\"T_be534_row7_col3\" class=\"data row7 col3\" >0.9974</td>\n",
       "      <td id=\"T_be534_row7_col4\" class=\"data row7 col4\" >1.0000</td>\n",
       "      <td id=\"T_be534_row7_col5\" class=\"data row7 col5\" >0.9987</td>\n",
       "      <td id=\"T_be534_row7_col6\" class=\"data row7 col6\" >0.9974</td>\n",
       "      <td id=\"T_be534_row7_col7\" class=\"data row7 col7\" >0.9974</td>\n",
       "      <td id=\"T_be534_row7_col8\" class=\"data row7 col8\" >0.7770</td>\n",
       "    </tr>\n",
       "    <tr>\n",
       "      <th id=\"T_be534_level0_row8\" class=\"row_heading level0 row8\" >lr</th>\n",
       "      <td id=\"T_be534_row8_col0\" class=\"data row8 col0\" >Logistic Regression</td>\n",
       "      <td id=\"T_be534_row8_col1\" class=\"data row8 col1\" >0.9985</td>\n",
       "      <td id=\"T_be534_row8_col2\" class=\"data row8 col2\" >0.9989</td>\n",
       "      <td id=\"T_be534_row8_col3\" class=\"data row8 col3\" >0.9975</td>\n",
       "      <td id=\"T_be534_row8_col4\" class=\"data row8 col4\" >0.9996</td>\n",
       "      <td id=\"T_be534_row8_col5\" class=\"data row8 col5\" >0.9985</td>\n",
       "      <td id=\"T_be534_row8_col6\" class=\"data row8 col6\" >0.9971</td>\n",
       "      <td id=\"T_be534_row8_col7\" class=\"data row8 col7\" >0.9971</td>\n",
       "      <td id=\"T_be534_row8_col8\" class=\"data row8 col8\" >1.1820</td>\n",
       "    </tr>\n",
       "    <tr>\n",
       "      <th id=\"T_be534_level0_row9\" class=\"row_heading level0 row9\" >knn</th>\n",
       "      <td id=\"T_be534_row9_col0\" class=\"data row9 col0\" >K Neighbors Classifier</td>\n",
       "      <td id=\"T_be534_row9_col1\" class=\"data row9 col1\" >0.9940</td>\n",
       "      <td id=\"T_be534_row9_col2\" class=\"data row9 col2\" >0.9985</td>\n",
       "      <td id=\"T_be534_row9_col3\" class=\"data row9 col3\" >0.9970</td>\n",
       "      <td id=\"T_be534_row9_col4\" class=\"data row9 col4\" >0.9911</td>\n",
       "      <td id=\"T_be534_row9_col5\" class=\"data row9 col5\" >0.9940</td>\n",
       "      <td id=\"T_be534_row9_col6\" class=\"data row9 col6\" >0.9880</td>\n",
       "      <td id=\"T_be534_row9_col7\" class=\"data row9 col7\" >0.9881</td>\n",
       "      <td id=\"T_be534_row9_col8\" class=\"data row9 col8\" >1.2180</td>\n",
       "    </tr>\n",
       "    <tr>\n",
       "      <th id=\"T_be534_level0_row10\" class=\"row_heading level0 row10\" >svm</th>\n",
       "      <td id=\"T_be534_row10_col0\" class=\"data row10 col0\" >SVM - Linear Kernel</td>\n",
       "      <td id=\"T_be534_row10_col1\" class=\"data row10 col1\" >0.9397</td>\n",
       "      <td id=\"T_be534_row10_col2\" class=\"data row10 col2\" >0.0000</td>\n",
       "      <td id=\"T_be534_row10_col3\" class=\"data row10 col3\" >0.8968</td>\n",
       "      <td id=\"T_be534_row10_col4\" class=\"data row10 col4\" >0.9828</td>\n",
       "      <td id=\"T_be534_row10_col5\" class=\"data row10 col5\" >0.8934</td>\n",
       "      <td id=\"T_be534_row10_col6\" class=\"data row10 col6\" >0.8795</td>\n",
       "      <td id=\"T_be534_row10_col7\" class=\"data row10 col7\" >0.8884</td>\n",
       "      <td id=\"T_be534_row10_col8\" class=\"data row10 col8\" >0.7820</td>\n",
       "    </tr>\n",
       "    <tr>\n",
       "      <th id=\"T_be534_level0_row11\" class=\"row_heading level0 row11\" >nb</th>\n",
       "      <td id=\"T_be534_row11_col0\" class=\"data row11 col0\" >Naive Bayes</td>\n",
       "      <td id=\"T_be534_row11_col1\" class=\"data row11 col1\" >0.5000</td>\n",
       "      <td id=\"T_be534_row11_col2\" class=\"data row11 col2\" >0.5000</td>\n",
       "      <td id=\"T_be534_row11_col3\" class=\"data row11 col3\" >1.0000</td>\n",
       "      <td id=\"T_be534_row11_col4\" class=\"data row11 col4\" >0.5000</td>\n",
       "      <td id=\"T_be534_row11_col5\" class=\"data row11 col5\" >0.6667</td>\n",
       "      <td id=\"T_be534_row11_col6\" class=\"data row11 col6\" >0.0000</td>\n",
       "      <td id=\"T_be534_row11_col7\" class=\"data row11 col7\" >0.0000</td>\n",
       "      <td id=\"T_be534_row11_col8\" class=\"data row11 col8\" >0.7470</td>\n",
       "    </tr>\n",
       "    <tr>\n",
       "      <th id=\"T_be534_level0_row12\" class=\"row_heading level0 row12\" >qda</th>\n",
       "      <td id=\"T_be534_row12_col0\" class=\"data row12 col0\" >Quadratic Discriminant Analysis</td>\n",
       "      <td id=\"T_be534_row12_col1\" class=\"data row12 col1\" >0.5000</td>\n",
       "      <td id=\"T_be534_row12_col2\" class=\"data row12 col2\" >0.5000</td>\n",
       "      <td id=\"T_be534_row12_col3\" class=\"data row12 col3\" >1.0000</td>\n",
       "      <td id=\"T_be534_row12_col4\" class=\"data row12 col4\" >0.5000</td>\n",
       "      <td id=\"T_be534_row12_col5\" class=\"data row12 col5\" >0.6667</td>\n",
       "      <td id=\"T_be534_row12_col6\" class=\"data row12 col6\" >0.0000</td>\n",
       "      <td id=\"T_be534_row12_col7\" class=\"data row12 col7\" >0.0000</td>\n",
       "      <td id=\"T_be534_row12_col8\" class=\"data row12 col8\" >1.0420</td>\n",
       "    </tr>\n",
       "    <tr>\n",
       "      <th id=\"T_be534_level0_row13\" class=\"row_heading level0 row13\" >dummy</th>\n",
       "      <td id=\"T_be534_row13_col0\" class=\"data row13 col0\" >Dummy Classifier</td>\n",
       "      <td id=\"T_be534_row13_col1\" class=\"data row13 col1\" >0.5000</td>\n",
       "      <td id=\"T_be534_row13_col2\" class=\"data row13 col2\" >0.5000</td>\n",
       "      <td id=\"T_be534_row13_col3\" class=\"data row13 col3\" >0.0000</td>\n",
       "      <td id=\"T_be534_row13_col4\" class=\"data row13 col4\" >0.0000</td>\n",
       "      <td id=\"T_be534_row13_col5\" class=\"data row13 col5\" >0.0000</td>\n",
       "      <td id=\"T_be534_row13_col6\" class=\"data row13 col6\" >0.0000</td>\n",
       "      <td id=\"T_be534_row13_col7\" class=\"data row13 col7\" >0.0000</td>\n",
       "      <td id=\"T_be534_row13_col8\" class=\"data row13 col8\" >0.8810</td>\n",
       "    </tr>\n",
       "  </tbody>\n",
       "</table>\n"
      ],
      "text/plain": [
       "<pandas.io.formats.style.Styler at 0x26b23f36a50>"
      ]
     },
     "metadata": {},
     "output_type": "display_data"
    },
    {
     "data": {
      "text/html": [],
      "text/plain": [
       "<IPython.core.display.HTML object>"
      ]
     },
     "metadata": {},
     "output_type": "display_data"
    }
   ],
   "source": [
    "best = exp.compare_models()"
   ]
  },
  {
   "cell_type": "code",
   "execution_count": 29,
   "metadata": {},
   "outputs": [
    {
     "data": {
      "text/html": [
       "<style>#sk-container-id-1 {color: black;background-color: white;}#sk-container-id-1 pre{padding: 0;}#sk-container-id-1 div.sk-toggleable {background-color: white;}#sk-container-id-1 label.sk-toggleable__label {cursor: pointer;display: block;width: 100%;margin-bottom: 0;padding: 0.3em;box-sizing: border-box;text-align: center;}#sk-container-id-1 label.sk-toggleable__label-arrow:before {content: \"▸\";float: left;margin-right: 0.25em;color: #696969;}#sk-container-id-1 label.sk-toggleable__label-arrow:hover:before {color: black;}#sk-container-id-1 div.sk-estimator:hover label.sk-toggleable__label-arrow:before {color: black;}#sk-container-id-1 div.sk-toggleable__content {max-height: 0;max-width: 0;overflow: hidden;text-align: left;background-color: #f0f8ff;}#sk-container-id-1 div.sk-toggleable__content pre {margin: 0.2em;color: black;border-radius: 0.25em;background-color: #f0f8ff;}#sk-container-id-1 input.sk-toggleable__control:checked~div.sk-toggleable__content {max-height: 200px;max-width: 100%;overflow: auto;}#sk-container-id-1 input.sk-toggleable__control:checked~label.sk-toggleable__label-arrow:before {content: \"▾\";}#sk-container-id-1 div.sk-estimator input.sk-toggleable__control:checked~label.sk-toggleable__label {background-color: #d4ebff;}#sk-container-id-1 div.sk-label input.sk-toggleable__control:checked~label.sk-toggleable__label {background-color: #d4ebff;}#sk-container-id-1 input.sk-hidden--visually {border: 0;clip: rect(1px 1px 1px 1px);clip: rect(1px, 1px, 1px, 1px);height: 1px;margin: -1px;overflow: hidden;padding: 0;position: absolute;width: 1px;}#sk-container-id-1 div.sk-estimator {font-family: monospace;background-color: #f0f8ff;border: 1px dotted black;border-radius: 0.25em;box-sizing: border-box;margin-bottom: 0.5em;}#sk-container-id-1 div.sk-estimator:hover {background-color: #d4ebff;}#sk-container-id-1 div.sk-parallel-item::after {content: \"\";width: 100%;border-bottom: 1px solid gray;flex-grow: 1;}#sk-container-id-1 div.sk-label:hover label.sk-toggleable__label {background-color: #d4ebff;}#sk-container-id-1 div.sk-serial::before {content: \"\";position: absolute;border-left: 1px solid gray;box-sizing: border-box;top: 0;bottom: 0;left: 50%;z-index: 0;}#sk-container-id-1 div.sk-serial {display: flex;flex-direction: column;align-items: center;background-color: white;padding-right: 0.2em;padding-left: 0.2em;position: relative;}#sk-container-id-1 div.sk-item {position: relative;z-index: 1;}#sk-container-id-1 div.sk-parallel {display: flex;align-items: stretch;justify-content: center;background-color: white;position: relative;}#sk-container-id-1 div.sk-item::before, #sk-container-id-1 div.sk-parallel-item::before {content: \"\";position: absolute;border-left: 1px solid gray;box-sizing: border-box;top: 0;bottom: 0;left: 50%;z-index: -1;}#sk-container-id-1 div.sk-parallel-item {display: flex;flex-direction: column;z-index: 1;position: relative;background-color: white;}#sk-container-id-1 div.sk-parallel-item:first-child::after {align-self: flex-end;width: 50%;}#sk-container-id-1 div.sk-parallel-item:last-child::after {align-self: flex-start;width: 50%;}#sk-container-id-1 div.sk-parallel-item:only-child::after {width: 0;}#sk-container-id-1 div.sk-dashed-wrapped {border: 1px dashed gray;margin: 0 0.4em 0.5em 0.4em;box-sizing: border-box;padding-bottom: 0.4em;background-color: white;}#sk-container-id-1 div.sk-label label {font-family: monospace;font-weight: bold;display: inline-block;line-height: 1.2em;}#sk-container-id-1 div.sk-label-container {text-align: center;}#sk-container-id-1 div.sk-container {/* jupyter's `normalize.less` sets `[hidden] { display: none; }` but bootstrap.min.css set `[hidden] { display: none !important; }` so we also need the `!important` here to be able to override the default hidden behavior on the sphinx rendered scikit-learn.org. See: https://github.com/scikit-learn/scikit-learn/issues/21755 */display: inline-block !important;position: relative;}#sk-container-id-1 div.sk-text-repr-fallback {display: none;}</style><div id=\"sk-container-id-1\" class=\"sk-top-container\"><div class=\"sk-text-repr-fallback\"><pre>DecisionTreeClassifier(ccp_alpha=0.0, class_weight=None, criterion=&#x27;gini&#x27;,\n",
       "                       max_depth=None, max_features=None, max_leaf_nodes=None,\n",
       "                       min_impurity_decrease=0.0, min_samples_leaf=1,\n",
       "                       min_samples_split=2, min_weight_fraction_leaf=0.0,\n",
       "                       random_state=2585, splitter=&#x27;best&#x27;)</pre><b>In a Jupyter environment, please rerun this cell to show the HTML representation or trust the notebook. <br />On GitHub, the HTML representation is unable to render, please try loading this page with nbviewer.org.</b></div><div class=\"sk-container\" hidden><div class=\"sk-item\"><div class=\"sk-estimator sk-toggleable\"><input class=\"sk-toggleable__control sk-hidden--visually\" id=\"sk-estimator-id-1\" type=\"checkbox\" checked><label for=\"sk-estimator-id-1\" class=\"sk-toggleable__label sk-toggleable__label-arrow\">DecisionTreeClassifier</label><div class=\"sk-toggleable__content\"><pre>DecisionTreeClassifier(ccp_alpha=0.0, class_weight=None, criterion=&#x27;gini&#x27;,\n",
       "                       max_depth=None, max_features=None, max_leaf_nodes=None,\n",
       "                       min_impurity_decrease=0.0, min_samples_leaf=1,\n",
       "                       min_samples_split=2, min_weight_fraction_leaf=0.0,\n",
       "                       random_state=2585, splitter=&#x27;best&#x27;)</pre></div></div></div></div></div>"
      ],
      "text/plain": [
       "DecisionTreeClassifier(ccp_alpha=0.0, class_weight=None, criterion='gini',\n",
       "                       max_depth=None, max_features=None, max_leaf_nodes=None,\n",
       "                       min_impurity_decrease=0.0, min_samples_leaf=1,\n",
       "                       min_samples_split=2, min_weight_fraction_leaf=0.0,\n",
       "                       random_state=2585, splitter='best')"
      ]
     },
     "execution_count": 29,
     "metadata": {},
     "output_type": "execute_result"
    }
   ],
   "source": [
    "best"
   ]
  },
  {
   "cell_type": "code",
   "execution_count": 30,
   "metadata": {},
   "outputs": [
    {
     "data": {
      "text/html": [],
      "text/plain": [
       "<IPython.core.display.HTML object>"
      ]
     },
     "metadata": {},
     "output_type": "display_data"
    },
    {
     "data": {
      "image/png": "[encoded data removed]",
      "text/plain": [
       "<Figure size 800x550 with 1 Axes>"
      ]
     },
     "metadata": {},
     "output_type": "display_data"
    }
   ],
   "source": [
    "# plot confusion matrix\n",
    "exp.plot_model(best, plot = 'confusion_matrix')"
   ]
  },
  {
   "cell_type": "code",
   "execution_count": 31,
   "metadata": {},
   "outputs": [
    {
     "data": {
      "text/html": [
       "<style type=\"text/css\">\n",
       "</style>\n",
       "<table id=\"T_0acaa\">\n",
       "  <thead>\n",
       "    <tr>\n",
       "      <th class=\"blank level0\" >&nbsp;</th>\n",
       "      <th id=\"T_0acaa_level0_col0\" class=\"col_heading level0 col0\" >Model</th>\n",
       "      <th id=\"T_0acaa_level0_col1\" class=\"col_heading level0 col1\" >Accuracy</th>\n",
       "      <th id=\"T_0acaa_level0_col2\" class=\"col_heading level0 col2\" >AUC</th>\n",
       "      <th id=\"T_0acaa_level0_col3\" class=\"col_heading level0 col3\" >Recall</th>\n",
       "      <th id=\"T_0acaa_level0_col4\" class=\"col_heading level0 col4\" >Prec.</th>\n",
       "      <th id=\"T_0acaa_level0_col5\" class=\"col_heading level0 col5\" >F1</th>\n",
       "      <th id=\"T_0acaa_level0_col6\" class=\"col_heading level0 col6\" >Kappa</th>\n",
       "      <th id=\"T_0acaa_level0_col7\" class=\"col_heading level0 col7\" >MCC</th>\n",
       "    </tr>\n",
       "  </thead>\n",
       "  <tbody>\n",
       "    <tr>\n",
       "      <th id=\"T_0acaa_level0_row0\" class=\"row_heading level0 row0\" >0</th>\n",
       "      <td id=\"T_0acaa_row0_col0\" class=\"data row0 col0\" >Decision Tree Classifier</td>\n",
       "      <td id=\"T_0acaa_row0_col1\" class=\"data row0 col1\" >0.9995</td>\n",
       "      <td id=\"T_0acaa_row0_col2\" class=\"data row0 col2\" >0.9995</td>\n",
       "      <td id=\"T_0acaa_row0_col3\" class=\"data row0 col3\" >0.9990</td>\n",
       "      <td id=\"T_0acaa_row0_col4\" class=\"data row0 col4\" >1.0000</td>\n",
       "      <td id=\"T_0acaa_row0_col5\" class=\"data row0 col5\" >0.9995</td>\n",
       "      <td id=\"T_0acaa_row0_col6\" class=\"data row0 col6\" >0.9990</td>\n",
       "      <td id=\"T_0acaa_row0_col7\" class=\"data row0 col7\" >0.9990</td>\n",
       "    </tr>\n",
       "  </tbody>\n",
       "</table>\n"
      ],
      "text/plain": [
       "<pandas.io.formats.style.Styler at 0x26b20335d10>"
      ]
     },
     "metadata": {},
     "output_type": "display_data"
    }
   ],
   "source": [
    "# predict on test set\n",
    "holdout_pred = exp.predict_model(best)"
   ]
  },
  {
   "cell_type": "markdown",
   "metadata": {},
   "source": [
    "# Machine Learning Model"
   ]
  },
  {
   "cell_type": "code",
   "execution_count": 56,
   "metadata": {},
   "outputs": [],
   "source": [
    "decision_tree_classifier = DecisionTreeClassifier(\n",
    "    ccp_alpha=0.0,\n",
    "    class_weight=None,\n",
    "    criterion='gini',\n",
    "    max_depth=None,\n",
    "    max_features=None,\n",
    "    max_leaf_nodes=None,\n",
    "    min_impurity_decrease=0.0,\n",
    "    min_samples_leaf=1,\n",
    "    min_samples_split=2,\n",
    "    min_weight_fraction_leaf=0.0,\n",
    "    random_state=2585,\n",
    "    splitter='best'\n",
    ")\n"
   ]
  },
  {
   "cell_type": "code",
   "execution_count": 57,
   "metadata": {},
   "outputs": [],
   "source": [
    "# Define a TF-IDF Vectorizer\n",
    "tfidf = TfidfVectorizer()\n",
    "# Create a pipeline with TF-IDF Vectorizer and DTClassifier\n",
    "pipeline = Pipeline([\n",
    "    ('tfidf', tfidf),\n",
    "    ('classifier', decision_tree_classifier)\n",
    "])"
   ]
  },
  {
   "cell_type": "code",
   "execution_count": 58,
   "metadata": {},
   "outputs": [
    {
     "data": {
      "text/html": [
       "<style>#sk-container-id-3 {color: black;background-color: white;}#sk-container-id-3 pre{padding: 0;}#sk-container-id-3 div.sk-toggleable {background-color: white;}#sk-container-id-3 label.sk-toggleable__label {cursor: pointer;display: block;width: 100%;margin-bottom: 0;padding: 0.3em;box-sizing: border-box;text-align: center;}#sk-container-id-3 label.sk-toggleable__label-arrow:before {content: \"▸\";float: left;margin-right: 0.25em;color: #696969;}#sk-container-id-3 label.sk-toggleable__label-arrow:hover:before {color: black;}#sk-container-id-3 div.sk-estimator:hover label.sk-toggleable__label-arrow:before {color: black;}#sk-container-id-3 div.sk-toggleable__content {max-height: 0;max-width: 0;overflow: hidden;text-align: left;background-color: #f0f8ff;}#sk-container-id-3 div.sk-toggleable__content pre {margin: 0.2em;color: black;border-radius: 0.25em;background-color: #f0f8ff;}#sk-container-id-3 input.sk-toggleable__control:checked~div.sk-toggleable__content {max-height: 200px;max-width: 100%;overflow: auto;}#sk-container-id-3 input.sk-toggleable__control:checked~label.sk-toggleable__label-arrow:before {content: \"▾\";}#sk-container-id-3 div.sk-estimator input.sk-toggleable__control:checked~label.sk-toggleable__label {background-color: #d4ebff;}#sk-container-id-3 div.sk-label input.sk-toggleable__control:checked~label.sk-toggleable__label {background-color: #d4ebff;}#sk-container-id-3 input.sk-hidden--visually {border: 0;clip: rect(1px 1px 1px 1px);clip: rect(1px, 1px, 1px, 1px);height: 1px;margin: -1px;overflow: hidden;padding: 0;position: absolute;width: 1px;}#sk-container-id-3 div.sk-estimator {font-family: monospace;background-color: #f0f8ff;border: 1px dotted black;border-radius: 0.25em;box-sizing: border-box;margin-bottom: 0.5em;}#sk-container-id-3 div.sk-estimator:hover {background-color: #d4ebff;}#sk-container-id-3 div.sk-parallel-item::after {content: \"\";width: 100%;border-bottom: 1px solid gray;flex-grow: 1;}#sk-container-id-3 div.sk-label:hover label.sk-toggleable__label {background-color: #d4ebff;}#sk-container-id-3 div.sk-serial::before {content: \"\";position: absolute;border-left: 1px solid gray;box-sizing: border-box;top: 0;bottom: 0;left: 50%;z-index: 0;}#sk-container-id-3 div.sk-serial {display: flex;flex-direction: column;align-items: center;background-color: white;padding-right: 0.2em;padding-left: 0.2em;position: relative;}#sk-container-id-3 div.sk-item {position: relative;z-index: 1;}#sk-container-id-3 div.sk-parallel {display: flex;align-items: stretch;justify-content: center;background-color: white;position: relative;}#sk-container-id-3 div.sk-item::before, #sk-container-id-3 div.sk-parallel-item::before {content: \"\";position: absolute;border-left: 1px solid gray;box-sizing: border-box;top: 0;bottom: 0;left: 50%;z-index: -1;}#sk-container-id-3 div.sk-parallel-item {display: flex;flex-direction: column;z-index: 1;position: relative;background-color: white;}#sk-container-id-3 div.sk-parallel-item:first-child::after {align-self: flex-end;width: 50%;}#sk-container-id-3 div.sk-parallel-item:last-child::after {align-self: flex-start;width: 50%;}#sk-container-id-3 div.sk-parallel-item:only-child::after {width: 0;}#sk-container-id-3 div.sk-dashed-wrapped {border: 1px dashed gray;margin: 0 0.4em 0.5em 0.4em;box-sizing: border-box;padding-bottom: 0.4em;background-color: white;}#sk-container-id-3 div.sk-label label {font-family: monospace;font-weight: bold;display: inline-block;line-height: 1.2em;}#sk-container-id-3 div.sk-label-container {text-align: center;}#sk-container-id-3 div.sk-container {/* jupyter's `normalize.less` sets `[hidden] { display: none; }` but bootstrap.min.css set `[hidden] { display: none !important; }` so we also need the `!important` here to be able to override the default hidden behavior on the sphinx rendered scikit-learn.org. See: https://github.com/scikit-learn/scikit-learn/issues/21755 */display: inline-block !important;position: relative;}#sk-container-id-3 div.sk-text-repr-fallback {display: none;}</style><div id=\"sk-container-id-3\" class=\"sk-top-container\"><div class=\"sk-text-repr-fallback\"><pre>Pipeline(memory=None,\n",
       "         steps=[(&#x27;tfidf&#x27;,\n",
       "                 TfidfVectorizer(analyzer=&#x27;word&#x27;, binary=False,\n",
       "                                 decode_error=&#x27;strict&#x27;,\n",
       "                                 dtype=&lt;class &#x27;numpy.float64&#x27;&gt;,\n",
       "                                 encoding=&#x27;utf-8&#x27;, input=&#x27;content&#x27;,\n",
       "                                 lowercase=True, max_df=1.0, max_features=None,\n",
       "                                 min_df=1, ngram_range=(1, 1), norm=&#x27;l2&#x27;,\n",
       "                                 preprocessor=None, smooth_idf=True,\n",
       "                                 stop_words=None, strip_accents=None,\n",
       "                                 sublinear_tf=False,\n",
       "                                 token_pattern=&#x27;(?u)\\\\b\\\\w\\\\w+\\\\b&#x27;,\n",
       "                                 tokenizer=None, use_idf=True,\n",
       "                                 vocabulary=None)),\n",
       "                (&#x27;classifier&#x27;,\n",
       "                 DecisionTreeClassifier(ccp_alpha=0.0, class_weight=None,\n",
       "                                        criterion=&#x27;gini&#x27;, max_depth=None,\n",
       "                                        max_features=None, max_leaf_nodes=None,\n",
       "                                        min_impurity_decrease=0.0,\n",
       "                                        min_samples_leaf=1, min_samples_split=2,\n",
       "                                        min_weight_fraction_leaf=0.0,\n",
       "                                        random_state=2585, splitter=&#x27;best&#x27;))],\n",
       "         verbose=False)</pre><b>In a Jupyter environment, please rerun this cell to show the HTML representation or trust the notebook. <br />On GitHub, the HTML representation is unable to render, please try loading this page with nbviewer.org.</b></div><div class=\"sk-container\" hidden><div class=\"sk-item sk-dashed-wrapped\"><div class=\"sk-label-container\"><div class=\"sk-label sk-toggleable\"><input class=\"sk-toggleable__control sk-hidden--visually\" id=\"sk-estimator-id-5\" type=\"checkbox\" ><label for=\"sk-estimator-id-5\" class=\"sk-toggleable__label sk-toggleable__label-arrow\">Pipeline</label><div class=\"sk-toggleable__content\"><pre>Pipeline(memory=None,\n",
       "         steps=[(&#x27;tfidf&#x27;,\n",
       "                 TfidfVectorizer(analyzer=&#x27;word&#x27;, binary=False,\n",
       "                                 decode_error=&#x27;strict&#x27;,\n",
       "                                 dtype=&lt;class &#x27;numpy.float64&#x27;&gt;,\n",
       "                                 encoding=&#x27;utf-8&#x27;, input=&#x27;content&#x27;,\n",
       "                                 lowercase=True, max_df=1.0, max_features=None,\n",
       "                                 min_df=1, ngram_range=(1, 1), norm=&#x27;l2&#x27;,\n",
       "                                 preprocessor=None, smooth_idf=True,\n",
       "                                 stop_words=None, strip_accents=None,\n",
       "                                 sublinear_tf=False,\n",
       "                                 token_pattern=&#x27;(?u)\\\\b\\\\w\\\\w+\\\\b&#x27;,\n",
       "                                 tokenizer=None, use_idf=True,\n",
       "                                 vocabulary=None)),\n",
       "                (&#x27;classifier&#x27;,\n",
       "                 DecisionTreeClassifier(ccp_alpha=0.0, class_weight=None,\n",
       "                                        criterion=&#x27;gini&#x27;, max_depth=None,\n",
       "                                        max_features=None, max_leaf_nodes=None,\n",
       "                                        min_impurity_decrease=0.0,\n",
       "                                        min_samples_leaf=1, min_samples_split=2,\n",
       "                                        min_weight_fraction_leaf=0.0,\n",
       "                                        random_state=2585, splitter=&#x27;best&#x27;))],\n",
       "         verbose=False)</pre></div></div></div><div class=\"sk-serial\"><div class=\"sk-item\"><div class=\"sk-estimator sk-toggleable\"><input class=\"sk-toggleable__control sk-hidden--visually\" id=\"sk-estimator-id-6\" type=\"checkbox\" ><label for=\"sk-estimator-id-6\" class=\"sk-toggleable__label sk-toggleable__label-arrow\">TfidfVectorizer</label><div class=\"sk-toggleable__content\"><pre>TfidfVectorizer()</pre></div></div></div><div class=\"sk-item\"><div class=\"sk-estimator sk-toggleable\"><input class=\"sk-toggleable__control sk-hidden--visually\" id=\"sk-estimator-id-7\" type=\"checkbox\" ><label for=\"sk-estimator-id-7\" class=\"sk-toggleable__label sk-toggleable__label-arrow\">DecisionTreeClassifier</label><div class=\"sk-toggleable__content\"><pre>DecisionTreeClassifier(random_state=2585)</pre></div></div></div></div></div></div></div>"
      ],
      "text/plain": [
       "Pipeline(memory=None,\n",
       "         steps=[('tfidf',\n",
       "                 TfidfVectorizer(analyzer='word', binary=False,\n",
       "                                 decode_error='strict',\n",
       "                                 dtype=<class 'numpy.float64'>,\n",
       "                                 encoding='utf-8', input='content',\n",
       "                                 lowercase=True, max_df=1.0, max_features=None,\n",
       "                                 min_df=1, ngram_range=(1, 1), norm='l2',\n",
       "                                 preprocessor=None, smooth_idf=True,\n",
       "                                 stop_words=None, strip_accents=None,\n",
       "                                 sublinear_tf=False,\n",
       "                                 token_pattern='(?u)\\\\b\\\\w\\\\w+\\\\b',\n",
       "                                 tokenizer=None, use_idf=True,\n",
       "                                 vocabulary=None)),\n",
       "                ('classifier',\n",
       "                 DecisionTreeClassifier(ccp_alpha=0.0, class_weight=None,\n",
       "                                        criterion='gini', max_depth=None,\n",
       "                                        max_features=None, max_leaf_nodes=None,\n",
       "                                        min_impurity_decrease=0.0,\n",
       "                                        min_samples_leaf=1, min_samples_split=2,\n",
       "                                        min_weight_fraction_leaf=0.0,\n",
       "                                        random_state=2585, splitter='best'))],\n",
       "         verbose=False)"
      ]
     },
     "execution_count": 58,
     "metadata": {},
     "output_type": "execute_result"
    }
   ],
   "source": [
    "# Train the model using textual data and labels\n",
    "pipeline.fit(X_train, y_train)"
   ]
  },
  {
   "cell_type": "code",
   "execution_count": 59,
   "metadata": {},
   "outputs": [
    {
     "name": "stdout",
     "output_type": "stream",
     "text": [
      "Accuracy: 0.9651\n",
      "Precision: 0.9349\n",
      "Recall: 1.0000\n",
      "F1 Score: 0.9663\n"
     ]
    }
   ],
   "source": [
    "predictions = pipeline.predict(X_val)\n",
    "\n",
    "# Calculate evaluation metrics\n",
    "accuracy = accuracy_score(y_val, predictions)\n",
    "precision = precision_score(y_val, predictions)\n",
    "recall = recall_score(y_val, predictions)\n",
    "f1 = f1_score(y_val, predictions)\n",
    "\n",
    "print(f\"Accuracy: {accuracy:.4f}\")\n",
    "print(f\"Precision: {precision:.4f}\")\n",
    "print(f\"Recall: {recall:.4f}\")\n",
    "print(f\"F1 Score: {f1:.4f}\")\n"
   ]
  },
  {
   "cell_type": "code",
   "execution_count": 8,
   "metadata": {},
   "outputs": [
    {
     "name": "stdout",
     "output_type": "stream",
     "text": [
      "Predicted class:  Positive\n"
     ]
    }
   ],
   "source": [
    "input_text = \"i love you\"\n",
    "\n",
    "input_prediction = pipeline.predict([input_text])\n",
    "\n",
    "# Display the prediction\n",
    "print(f\"Predicted class: \", \"Negative\" if input_prediction[0] == 1 else \"Positive\")\n"
   ]
  },
  {
   "cell_type": "code",
   "execution_count": 10,
   "metadata": {},
   "outputs": [
    {
     "name": "stdout",
     "output_type": "stream",
     "text": [
      "Predicted class:  Negative\n"
     ]
    }
   ],
   "source": [
    "input_text = \"i hate you\"\n",
    "\n",
    "input_prediction = pipeline.predict([input_text])\n",
    "\n",
    "# Display the prediction\n",
    "print(f\"Predicted class: \", \"Negative\" if input_prediction[0] == 1 else \"Positive\")\n"
   ]
  },
  {
   "cell_type": "code",
   "execution_count": 3,
   "metadata": {},
   "outputs": [],
   "source": [
    "import joblib\n",
    "# joblib.dump(pipeline, 'DTC.joblib')"
   ]
  },
  {
   "cell_type": "code",
   "execution_count": 4,
   "metadata": {},
   "outputs": [],
   "source": [
    "loaded_model = joblib.load('DTC.joblib')\n"
   ]
  }
 ],
 "metadata": {
  "kernelspec": {
   "display_name": "Python 3",
   "language": "python",
   "name": "python3"
  },
  "language_info": {
   "codemirror_mode": {
    "name": "ipython",
    "version": 3
   },
   "file_extension": ".py",
   "mimetype": "text/x-python",
   "name": "python",
   "nbconvert_exporter": "python",
   "pygments_lexer": "ipython3",
   "version": "3.11.6"
  }
 },
 "nbformat": 4,
 "nbformat_minor": 2
}
